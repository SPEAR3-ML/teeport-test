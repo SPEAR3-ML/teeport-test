{
 "cells": [
  {
   "cell_type": "code",
   "execution_count": 1,
   "metadata": {},
   "outputs": [],
   "source": [
    "%load_ext autoreload\n",
    "%autoreload 2\n",
    "\n",
    "import nest_asyncio\n",
    "nest_asyncio.apply()\n",
    "\n",
    "import asyncio\n",
    "import numpy as np\n",
    "\n",
    "from teeport import Teeport"
   ]
  },
  {
   "cell_type": "markdown",
   "metadata": {},
   "source": [
    "### Optimizer integration test"
   ]
  },
  {
   "cell_type": "markdown",
   "metadata": {},
   "source": [
    "In this test, we'll integrate a mockup algorithm to Teeport and use it later to optimize a mockup problem."
   ]
  },
  {
   "cell_type": "markdown",
   "metadata": {},
   "source": [
    "#### Integrate a mockup algorithm to Teeport"
   ]
  },
  {
   "cell_type": "markdown",
   "metadata": {},
   "source": [
    "Firstly create a new Teeport adapter:"
   ]
  },
  {
   "cell_type": "code",
   "execution_count": 2,
   "metadata": {},
   "outputs": [],
   "source": [
    "teeport = Teeport('ws://localhost:8080/')"
   ]
  },
  {
   "cell_type": "markdown",
   "metadata": {},
   "source": [
    "Let's create an optimize function which will be integrated to Teeport later:"
   ]
  },
  {
   "cell_type": "code",
   "execution_count": 3,
   "metadata": {},
   "outputs": [],
   "source": [
    "def optimize(evaluate, configs=None):\n",
    "    for i in range(10):\n",
    "        X_next = np.random.rand(30, 10) / (i + 1)  # 30 points, 10 dimension decision space\n",
    "        Y = evaluate(X_next)\n",
    "        print(f'gen {i + 1}: {np.min(Y)}')"
   ]
  },
  {
   "cell_type": "markdown",
   "metadata": {},
   "source": [
    "Note that the configs argument is needed, but it could be just None. This behavior can be optimized if needed."
   ]
  },
  {
   "cell_type": "markdown",
   "metadata": {},
   "source": [
    "Now integrate it by using the `run_optimizer` API:"
   ]
  },
  {
   "cell_type": "code",
   "execution_count": 4,
   "metadata": {},
   "outputs": [
    {
     "data": {
      "text/plain": [
       "True"
      ]
     },
     "execution_count": 4,
     "metadata": {},
     "output_type": "execute_result"
    }
   ],
   "source": [
    "teeport.run_optimizer(optimize)"
   ]
  },
  {
   "cell_type": "markdown",
   "metadata": {},
   "source": [
    "Get the optimizer id by calling the `status` API: "
   ]
  },
  {
   "cell_type": "code",
   "execution_count": 5,
   "metadata": {},
   "outputs": [
    {
     "name": "stdout",
     "output_type": "stream",
     "text": [
      "General\n",
      "================================================================================\n",
      "uri             : ws://localhost:8080/\n",
      "name            : t0\n",
      "topology        : t0      \n",
      "\n",
      "Optimizer\n",
      "================================================================================\n",
      "uri             : ws://localhost:8080/\n",
      "algorithm id    : None\n",
      "name            : whispering-plants\n",
      "configs         : null\n",
      "private         : False\n",
      "local           : True\n",
      "socket          : connected\n",
      "socket id       : R0oFd0nBZ\n",
      "optimize        : set\n",
      "main task       : running\n",
      "opt task        : not running\n",
      "eval task       : not running\n"
     ]
    }
   ],
   "source": [
    "teeport.status()"
   ]
  },
  {
   "cell_type": "markdown",
   "metadata": {},
   "source": [
    "The `socket id` property is the optimizer id we'll need later. You can now copy it to your clipboard."
   ]
  },
  {
   "cell_type": "markdown",
   "metadata": {},
   "source": [
    "#### Use the optimizer to optimize a mockup problem"
   ]
  },
  {
   "cell_type": "markdown",
   "metadata": {},
   "source": [
    "Assume we're on some other computer, so we'll need to initialize a new Teeport adapter:"
   ]
  },
  {
   "cell_type": "code",
   "execution_count": 6,
   "metadata": {},
   "outputs": [],
   "source": [
    "teeport2 = Teeport('ws://localhost:8080/')"
   ]
  },
  {
   "cell_type": "markdown",
   "metadata": {},
   "source": [
    "Get the optimizer through the `use_optimizer` API with the id we just copied:"
   ]
  },
  {
   "cell_type": "code",
   "execution_count": 7,
   "metadata": {},
   "outputs": [],
   "source": [
    "optimize = teeport2.use_optimizer('R0oFd0nBZ')"
   ]
  },
  {
   "cell_type": "markdown",
   "metadata": {},
   "source": [
    "Now define a mockup evaluate function:"
   ]
  },
  {
   "cell_type": "code",
   "execution_count": 8,
   "metadata": {},
   "outputs": [],
   "source": [
    "import time\n",
    "\n",
    "def evaluate(X, configs=None):\n",
    "    time.sleep(1)  # emulate the calculation time\n",
    "    Y = np.linalg.norm(X, axis=1).reshape(-1, 1)\n",
    "    return Y"
   ]
  },
  {
   "cell_type": "markdown",
   "metadata": {},
   "source": [
    "Note that the configs argument is needed here, too. We also need to reshape Y to a 2D array, this is a requirement of Teeport. The mockup defined above just returns the norm of each point."
   ]
  },
  {
   "cell_type": "markdown",
   "metadata": {},
   "source": [
    "Test the mockup evaluate function:"
   ]
  },
  {
   "cell_type": "code",
   "execution_count": 9,
   "metadata": {},
   "outputs": [
    {
     "data": {
      "text/plain": [
       "array([[3.16227766],\n",
       "       [3.16227766],\n",
       "       [3.16227766],\n",
       "       [3.16227766],\n",
       "       [3.16227766],\n",
       "       [3.16227766],\n",
       "       [3.16227766],\n",
       "       [3.16227766],\n",
       "       [3.16227766],\n",
       "       [3.16227766],\n",
       "       [3.16227766],\n",
       "       [3.16227766],\n",
       "       [3.16227766],\n",
       "       [3.16227766],\n",
       "       [3.16227766],\n",
       "       [3.16227766],\n",
       "       [3.16227766],\n",
       "       [3.16227766],\n",
       "       [3.16227766],\n",
       "       [3.16227766],\n",
       "       [3.16227766],\n",
       "       [3.16227766],\n",
       "       [3.16227766],\n",
       "       [3.16227766],\n",
       "       [3.16227766],\n",
       "       [3.16227766],\n",
       "       [3.16227766],\n",
       "       [3.16227766],\n",
       "       [3.16227766],\n",
       "       [3.16227766]])"
      ]
     },
     "execution_count": 9,
     "metadata": {},
     "output_type": "execute_result"
    }
   ],
   "source": [
    "evaluate(np.ones((30, 10)))"
   ]
  },
  {
   "cell_type": "markdown",
   "metadata": {},
   "source": [
    "Now let's optimize it:"
   ]
  },
  {
   "cell_type": "code",
   "execution_count": 10,
   "metadata": {},
   "outputs": [
    {
     "name": "stdout",
     "output_type": "stream",
     "text": [
      "gen 1: 1.3794647415613954\n",
      "gen 2: 0.6646163527265604\n",
      "gen 3: 0.42463106234007697\n",
      "gen 4: 0.2916153277966618\n",
      "gen 5: 0.27916231870650704\n",
      "gen 6: 0.22033118618652037\n",
      "gen 7: 0.12691277521534278\n",
      "gen 8: 0.17923090919302187\n",
      "gen 9: 0.14660139020304847\n",
      "gen 10: 0.12432845388968225\n",
      "optimizer: optimization finished\n",
      "optimizer: already stopped\n",
      "evaluator: stopped\n"
     ]
    }
   ],
   "source": [
    "optimize(evaluate)"
   ]
  },
  {
   "cell_type": "markdown",
   "metadata": {},
   "source": [
    "#### Clean up"
   ]
  },
  {
   "cell_type": "markdown",
   "metadata": {},
   "source": [
    "Let's do some cleaning by calling the `reset` API "
   ]
  },
  {
   "cell_type": "code",
   "execution_count": 11,
   "metadata": {},
   "outputs": [
    {
     "name": "stdout",
     "output_type": "stream",
     "text": [
      "teeport: not linked yet\n",
      "optimizer: stopped\n"
     ]
    }
   ],
   "source": [
    "teeport.reset()"
   ]
  },
  {
   "cell_type": "code",
   "execution_count": 12,
   "metadata": {},
   "outputs": [
    {
     "name": "stdout",
     "output_type": "stream",
     "text": [
      "teeport: not linked yet\n",
      "optimizer: already stopped\n",
      "evaluator: already stopped\n"
     ]
    }
   ],
   "source": [
    "teeport2.reset()"
   ]
  },
  {
   "cell_type": "markdown",
   "metadata": {},
   "source": [
    "This will disconnect all the websockets that connected to the Teeport backend service."
   ]
  },
  {
   "cell_type": "markdown",
   "metadata": {},
   "source": [
    "### Evaluator integration test"
   ]
  },
  {
   "cell_type": "markdown",
   "metadata": {},
   "source": [
    "In this test, we'll integrate a mockup problem to Teeport and use it later to test a mockup algorithm."
   ]
  },
  {
   "cell_type": "markdown",
   "metadata": {},
   "source": [
    "#### Integrate a mockup evaluator to Teeport"
   ]
  },
  {
   "cell_type": "markdown",
   "metadata": {},
   "source": [
    "Firstly create a new Teeport adapter:"
   ]
  },
  {
   "cell_type": "code",
   "execution_count": 13,
   "metadata": {},
   "outputs": [],
   "source": [
    "teeport = Teeport('ws://localhost:8080/')"
   ]
  },
  {
   "cell_type": "markdown",
   "metadata": {},
   "source": [
    "Let's create an optimize function which will be integrated to Teeport later:"
   ]
  },
  {
   "cell_type": "code",
   "execution_count": 14,
   "metadata": {},
   "outputs": [],
   "source": [
    "import time\n",
    "\n",
    "def evaluate(X, configs=None):\n",
    "    time.sleep(1)  # emulate the calculation time\n",
    "    Y = np.linalg.norm(X, axis=1).reshape(-1, 1)\n",
    "    return Y"
   ]
  },
  {
   "cell_type": "markdown",
   "metadata": {},
   "source": [
    "Note that the configs argument is needed, but it could be just None. This behavior can be optimized if needed."
   ]
  },
  {
   "cell_type": "markdown",
   "metadata": {},
   "source": [
    "Now integrate it by using the `run_evalautor` API:"
   ]
  },
  {
   "cell_type": "code",
   "execution_count": 15,
   "metadata": {},
   "outputs": [
    {
     "data": {
      "text/plain": [
       "True"
      ]
     },
     "execution_count": 15,
     "metadata": {},
     "output_type": "execute_result"
    }
   ],
   "source": [
    "teeport.run_evaluator(evaluate)"
   ]
  },
  {
   "cell_type": "markdown",
   "metadata": {},
   "source": [
    "Get the evaluator id by calling the `status` API: "
   ]
  },
  {
   "cell_type": "code",
   "execution_count": 16,
   "metadata": {},
   "outputs": [
    {
     "name": "stdout",
     "output_type": "stream",
     "text": [
      "General\n",
      "================================================================================\n",
      "uri             : ws://localhost:8080/\n",
      "name            : t0\n",
      "topology        : t0      \n",
      "\n",
      "Evaluator\n",
      "================================================================================\n",
      "uri             : ws://localhost:8080/\n",
      "problem id      : None\n",
      "name            : absent-bell\n",
      "configs         : null\n",
      "private         : False\n",
      "local           : True\n",
      "socket          : connected\n",
      "socket id       : eC0C15X9f\n",
      "evaluate        : set\n",
      "main task       : running\n"
     ]
    }
   ],
   "source": [
    "teeport.status()"
   ]
  },
  {
   "cell_type": "markdown",
   "metadata": {},
   "source": [
    "The `socket id` property is the evaluator id we'll need later. You can now copy it to your clipboard."
   ]
  },
  {
   "cell_type": "markdown",
   "metadata": {},
   "source": [
    "#### Use the evaluator as a local function"
   ]
  },
  {
   "cell_type": "markdown",
   "metadata": {},
   "source": [
    "Assume we're on some other computer, so we'll need to initialize a new Teeport adapter:"
   ]
  },
  {
   "cell_type": "code",
   "execution_count": 17,
   "metadata": {},
   "outputs": [],
   "source": [
    "teeport2 = Teeport('ws://localhost:8080/')"
   ]
  },
  {
   "cell_type": "markdown",
   "metadata": {},
   "source": [
    "Get the evaluator through the `use_evaluator` API with the id we just copied:"
   ]
  },
  {
   "cell_type": "code",
   "execution_count": 18,
   "metadata": {},
   "outputs": [],
   "source": [
    "evaluate = teeport2.use_evaluator('eC0C15X9f')"
   ]
  },
  {
   "cell_type": "markdown",
   "metadata": {},
   "source": [
    "Now assume that you yourself are the optimizer:) Do whatever you want with the evaluator! "
   ]
  },
  {
   "cell_type": "code",
   "execution_count": 19,
   "metadata": {},
   "outputs": [
    {
     "data": {
      "text/plain": [
       "array([[3.16227766],\n",
       "       [3.16227766],\n",
       "       [3.16227766],\n",
       "       [3.16227766],\n",
       "       [3.16227766],\n",
       "       [3.16227766],\n",
       "       [3.16227766],\n",
       "       [3.16227766],\n",
       "       [3.16227766],\n",
       "       [3.16227766],\n",
       "       [3.16227766],\n",
       "       [3.16227766],\n",
       "       [3.16227766],\n",
       "       [3.16227766],\n",
       "       [3.16227766],\n",
       "       [3.16227766],\n",
       "       [3.16227766],\n",
       "       [3.16227766],\n",
       "       [3.16227766],\n",
       "       [3.16227766],\n",
       "       [3.16227766],\n",
       "       [3.16227766],\n",
       "       [3.16227766],\n",
       "       [3.16227766],\n",
       "       [3.16227766],\n",
       "       [3.16227766],\n",
       "       [3.16227766],\n",
       "       [3.16227766],\n",
       "       [3.16227766],\n",
       "       [3.16227766]])"
      ]
     },
     "execution_count": 19,
     "metadata": {},
     "output_type": "execute_result"
    }
   ],
   "source": [
    "evaluate(np.ones((30, 10)))"
   ]
  },
  {
   "cell_type": "code",
   "execution_count": 20,
   "metadata": {},
   "outputs": [
    {
     "data": {
      "text/plain": [
       "array([[0],\n",
       "       [0],\n",
       "       [0],\n",
       "       [0],\n",
       "       [0],\n",
       "       [0],\n",
       "       [0],\n",
       "       [0],\n",
       "       [0],\n",
       "       [0],\n",
       "       [0],\n",
       "       [0],\n",
       "       [0],\n",
       "       [0],\n",
       "       [0],\n",
       "       [0],\n",
       "       [0],\n",
       "       [0],\n",
       "       [0],\n",
       "       [0],\n",
       "       [0],\n",
       "       [0],\n",
       "       [0],\n",
       "       [0],\n",
       "       [0],\n",
       "       [0],\n",
       "       [0],\n",
       "       [0],\n",
       "       [0],\n",
       "       [0]])"
      ]
     },
     "execution_count": 20,
     "metadata": {},
     "output_type": "execute_result"
    }
   ],
   "source": [
    "evaluate(np.zeros((30, 10)))"
   ]
  },
  {
   "cell_type": "markdown",
   "metadata": {},
   "source": [
    "#### Clean up"
   ]
  },
  {
   "cell_type": "markdown",
   "metadata": {},
   "source": [
    "Let's do some cleaning by calling the `reset` API "
   ]
  },
  {
   "cell_type": "code",
   "execution_count": 21,
   "metadata": {},
   "outputs": [
    {
     "name": "stdout",
     "output_type": "stream",
     "text": [
      "teeport: not linked yet\n",
      "evaluator: stopped\n"
     ]
    }
   ],
   "source": [
    "teeport.reset()"
   ]
  },
  {
   "cell_type": "code",
   "execution_count": 22,
   "metadata": {},
   "outputs": [
    {
     "name": "stdout",
     "output_type": "stream",
     "text": [
      "evaluator: already stopped\n",
      "optimizer: stopped\n",
      "optimizer: optimization cancelled\n",
      "teeport: not linked yet\n"
     ]
    }
   ],
   "source": [
    "teeport2.reset()"
   ]
  },
  {
   "cell_type": "markdown",
   "metadata": {},
   "source": [
    "This will disconnect all the websockets that connected to the Teeport backend service."
   ]
  },
  {
   "cell_type": "code",
   "execution_count": null,
   "metadata": {},
   "outputs": [],
   "source": []
  }
 ],
 "metadata": {
  "kernelspec": {
   "display_name": "Python 3",
   "language": "python",
   "name": "python3"
  },
  "language_info": {
   "codemirror_mode": {
    "name": "ipython",
    "version": 3
   },
   "file_extension": ".py",
   "mimetype": "text/x-python",
   "name": "python",
   "nbconvert_exporter": "python",
   "pygments_lexer": "ipython3",
   "version": "3.7.9"
  }
 },
 "nbformat": 4,
 "nbformat_minor": 4
}
