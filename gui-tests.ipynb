{
 "cells": [
  {
   "cell_type": "code",
   "execution_count": 1,
   "metadata": {},
   "outputs": [],
   "source": [
    "%load_ext autoreload\n",
    "%autoreload 2\n",
    "\n",
    "import nest_asyncio\n",
    "nest_asyncio.apply()\n",
    "\n",
    "import asyncio\n",
    "import numpy as np\n",
    "\n",
    "from teeport import Teeport"
   ]
  },
  {
   "cell_type": "markdown",
   "metadata": {},
   "source": [
    "### Teeport GUI test"
   ]
  },
  {
   "cell_type": "markdown",
   "metadata": {},
   "source": [
    "In this test, we'll integrate a mockup algorithm and a mockup problem to Teeport, then perform the optimization through the GUI of Teeport."
   ]
  },
  {
   "cell_type": "markdown",
   "metadata": {},
   "source": [
    "#### Integrate mockup algorithm and problem to Teeport"
   ]
  },
  {
   "cell_type": "markdown",
   "metadata": {},
   "source": [
    "Firstly create a new Teeport adapter:"
   ]
  },
  {
   "cell_type": "code",
   "execution_count": 2,
   "metadata": {},
   "outputs": [],
   "source": [
    "teeport = Teeport('ws://localhost:8080/')"
   ]
  },
  {
   "cell_type": "markdown",
   "metadata": {},
   "source": [
    "Let's create an optimize function and an evaluate function which will be integrated to Teeport later:"
   ]
  },
  {
   "cell_type": "code",
   "execution_count": 3,
   "metadata": {},
   "outputs": [],
   "source": [
    "def optimize(evaluate, configs=None):\n",
    "    for i in range(10):\n",
    "        X_next = np.random.rand(30, 10) / (i + 1)  # 30 points, 10 dimension decision space\n",
    "        Y = evaluate(X_next)\n",
    "        print(f'gen {i + 1}: {np.min(Y)}')"
   ]
  },
  {
   "cell_type": "code",
   "execution_count": 4,
   "metadata": {},
   "outputs": [],
   "source": [
    "import time\n",
    "\n",
    "def evaluate(X, configs=None):\n",
    "    time.sleep(1)  # emulate the calculation time\n",
    "    Y = np.linalg.norm(X, axis=1).reshape(-1, 1)\n",
    "    return Y"
   ]
  },
  {
   "cell_type": "markdown",
   "metadata": {},
   "source": [
    "Note that the configs argument is needed, but it could be just None. This behavior can be optimized if needed."
   ]
  },
  {
   "cell_type": "markdown",
   "metadata": {},
   "source": [
    "Now integrate them by using the `run_optimizer` and `run_evaluator` APIs, respectively:"
   ]
  },
  {
   "cell_type": "code",
   "execution_count": 5,
   "metadata": {},
   "outputs": [
    {
     "data": {
      "text/plain": [
       "True"
      ]
     },
     "execution_count": 5,
     "metadata": {},
     "output_type": "execute_result"
    }
   ],
   "source": [
    "teeport.run_optimizer(optimize)"
   ]
  },
  {
   "cell_type": "code",
   "execution_count": 6,
   "metadata": {},
   "outputs": [
    {
     "data": {
      "text/plain": [
       "True"
      ]
     },
     "execution_count": 6,
     "metadata": {},
     "output_type": "execute_result"
    }
   ],
   "source": [
    "teeport.run_evaluator(evaluate)"
   ]
  },
  {
   "cell_type": "markdown",
   "metadata": {},
   "source": [
    "Check current status by calling the `status` API: "
   ]
  },
  {
   "cell_type": "code",
   "execution_count": 7,
   "metadata": {},
   "outputs": [
    {
     "name": "stdout",
     "output_type": "stream",
     "text": [
      "General\n",
      "================================================================================\n",
      "uri             : ws://localhost:8080/\n",
      "name            : t0\n",
      "topology        : t0      \n",
      "\n",
      "Optimizer\n",
      "================================================================================\n",
      "uri             : ws://localhost:8080/\n",
      "algorithm id    : None\n",
      "name            : apathetic-arithmetic\n",
      "configs         : null\n",
      "private         : False\n",
      "local           : True\n",
      "socket          : connected\n",
      "socket id       : 3w-RvAXT9\n",
      "optimize        : set\n",
      "main task       : running\n",
      "opt task        : not running\n",
      "eval task       : not running\n",
      "\n",
      "Evaluator\n",
      "================================================================================\n",
      "uri             : ws://localhost:8080/\n",
      "problem id      : None\n",
      "name            : cynical-side\n",
      "configs         : null\n",
      "private         : False\n",
      "local           : True\n",
      "socket          : connected\n",
      "socket id       : lZR_ZtGLR\n",
      "evaluate        : set\n",
      "main task       : running\n",
      "gen 1: 1.027049058599151\n",
      "gen 2: 0.57805429885472\n",
      "gen 3: 0.41293147114297063\n",
      "gen 4: 0.3474884666038044\n",
      "gen 5: 0.2762877804659056\n",
      "optimizer: optimization cancelled\n",
      "optimizer: disconnected, cleaned up\n",
      "evaluator: disconnected, cleaned up\n"
     ]
    }
   ],
   "source": [
    "teeport.status()"
   ]
  },
  {
   "cell_type": "markdown",
   "metadata": {},
   "source": [
    "#### Perform optimization through the Teeport GUI"
   ]
  },
  {
   "cell_type": "markdown",
   "metadata": {},
   "source": [
    "##### Create a new optimization task"
   ]
  },
  {
   "cell_type": "markdown",
   "metadata": {},
   "source": [
    "Go to [http://localhost:3000/tasks](http://localhost:3000/tasks) in your browser, click the **New** button, select the optimizer and the evaluator we just put online, respectively, then click the **Create Task** button. You'll see a new task card appears."
   ]
  },
  {
   "cell_type": "markdown",
   "metadata": {},
   "source": [
    "##### Start the optimization task"
   ]
  },
  {
   "cell_type": "markdown",
   "metadata": {},
   "source": [
    "Hover your mouse on the status bar of the task card (where shows the created time), click the **Enter** button to go to the *Task View*. Click the **Start** button in the toolbar, the optimization will start.\n",
    "\n",
    "Click the **Pause** button (if not gray-out) to pause the task anytime, click the button again to resume. Click the **Stop** button (if not gray-out) to terminate the task. A terminated task cannot be resumed.\n",
    "\n",
    "The **Pause** button and the **Stop** button will gray-out when the optimization task finishes. "
   ]
  },
  {
   "cell_type": "markdown",
   "metadata": {},
   "source": [
    "##### Download the task data"
   ]
  },
  {
   "cell_type": "markdown",
   "metadata": {},
   "source": [
    "Click the **Download** button to download the evaluation history data of the optimization task.\n",
    "\n",
    "If the webpage crashed when you click some other button not mentioned above, that's expected lol, refresh the page to get back to normal."
   ]
  },
  {
   "cell_type": "markdown",
   "metadata": {},
   "source": [
    "#### Manage tasks and clients through the Teeport GUI"
   ]
  },
  {
   "cell_type": "markdown",
   "metadata": {},
   "source": [
    "##### Delete task(s)"
   ]
  },
  {
   "cell_type": "markdown",
   "metadata": {},
   "source": [
    "Go back to the *Task Overview* by clicking the **Back** button, hover your mouse over the task card status bar, click the **Delete** button, twice, to delete that task."
   ]
  },
  {
   "cell_type": "markdown",
   "metadata": {},
   "source": [
    "##### Disconnect client(s)"
   ]
  },
  {
   "cell_type": "markdown",
   "metadata": {},
   "source": [
    "Go to the *Optimizer Overview*/*Evaluator Overview* by clicking the corresponding item in the navigation bar. Hover your mouse over the client card status bar, click the **Close** button, twice, to disconnect that client."
   ]
  },
  {
   "cell_type": "code",
   "execution_count": null,
   "metadata": {},
   "outputs": [],
   "source": []
  }
 ],
 "metadata": {
  "kernelspec": {
   "display_name": "Python 3",
   "language": "python",
   "name": "python3"
  },
  "language_info": {
   "codemirror_mode": {
    "name": "ipython",
    "version": 3
   },
   "file_extension": ".py",
   "mimetype": "text/x-python",
   "name": "python",
   "nbconvert_exporter": "python",
   "pygments_lexer": "ipython3",
   "version": "3.7.9"
  }
 },
 "nbformat": 4,
 "nbformat_minor": 4
}
